{
 "cells": [
  {
   "cell_type": "code",
   "execution_count": null,
   "metadata": {},
   "outputs": [],
   "source": [
    "import psi4\n",
    "import numpy as np\n",
    "from scipy import linalg as LA"
   ]
  },
  {
   "cell_type": "code",
   "execution_count": null,
   "metadata": {},
   "outputs": [],
   "source": [
    "# ==> Set default program options <==\n",
    "psi4.set_memory('1000 MB')\n",
    "psi4.set_options({'basis':'cc-pvdz','scf_type': 'pk','e_convergence': 1e-8})\n"
   ]
  },
  {
   "cell_type": "code",
   "execution_count": null,
   "metadata": {},
   "outputs": [],
   "source": [
    "# ==> Geometry and Basis Set <==\n",
    "mol=psi4.geometry(\"O\\nH 1 1.1\\nH 1 1.1 2 104\\nsymmetry c1\\n\")\n",
    "E_nuc = mol.nuclear_repulsion_energy()\n",
    "wfn = psi4.core.Wavefunction.build(mol, psi4.core.get_global_option('basis'))\n",
    "ndocc,nbf = wfn.nalpha(), wfn.basisset().nbf()\n",
    "mints = psi4.core.MintsHelper(wfn.basisset())"
   ]
  },
  {
   "cell_type": "code",
   "execution_count": null,
   "metadata": {},
   "outputs": [],
   "source": [
    "# ==> SCF Iterations <==\n",
    "SCF_E, E_old = 0.0, 0.0\n",
    "MAXITER, E_conv = 40,1.0e-6"
   ]
  },
  {
   "cell_type": "code",
   "execution_count": null,
   "metadata": {},
   "outputs": [],
   "source": [
    "# Build and Orthogonormalize Overlap Matrix\n",
    "S = np.asarray(mints.ao_overlap())\n",
    "A = LA.sqrtm(np.linalg.inv(S))\n",
    "S_p = A.dot(S.dot(A))"
   ]
  },
  {
   "cell_type": "code",
   "execution_count": null,
   "metadata": {},
   "outputs": [],
   "source": [
    "# Core Hamiltonian Initial Guess\n",
    "H=np.asarray(mints.ao_kinetic()) + np.asarray(mints.ao_potential())\n",
    "# Transform The Fock Matrix\n",
    "F_p=A.dot(H.dot(A)) # First Guess F=H\n",
    "# Compute Coefficient & Density Matrices\n",
    "vals,vecs=np.linalg.eigh(F_p)\n",
    "C=A.dot(vecs)\n",
    "C_occ=C[:,:ndocc]\n",
    "D=np.einsum('pi,qi->pq',C_occ,C_occ)"
   ]
  },
  {
   "cell_type": "code",
   "execution_count": null,
   "metadata": {},
   "outputs": [],
   "source": [
    "print('==> Starting SCF Iterations <==\\n')\n",
    "for scf_iter in range(1, MAXITER + 1):\n",
    "    # Build Fock matrix (Section XII)\n",
    "    I=np.asarray(mints.ao_eri())\n",
    "    J=np.einsum('rs,pqrs->pq',D,I)\n",
    "    K=np.einsum('rq,pqrs->ps',D,I)\n",
    "    F=H+2*J-K\n",
    "    # Compute SCF energy\n",
    "    SCF_E = E_nuc+np.einsum('pq->',(H+F)*D) #<your formula here>\n",
    "    print(F'SCF Iteration {scf_iter}: Energy = {SCF_E:.8f} dE = {SCF_E - E_old:.8f}')\n",
    "    # Check Convergence\n",
    "    if (abs(SCF_E - E_old) < E_conv): break\n",
    "    E_old=SCF_E\n",
    "    # Compute new coefficient & density matrices (Section X & XI) \n",
    "    F_p=A.dot(F.dot(A))\n",
    "    vals,vecs=np.linalg.eigh(F_p)\n",
    "    C=A.dot(vecs)\n",
    "    C_occ=C[:, :ndocc]\n",
    "    D= np.einsum('pi,qi->pq',C_occ,C_occ)\n",
    "    # Check MAXITER\n",
    "    if (scf_iter == MAXITER):\n",
    "        psi4.core.clean()\n",
    "        raise Exception(\"Maximum number of SCF iterations exceeded.\")\n",
    "# Post iterations\n",
    "print('\\nSCF converged.')\n",
    "print(F'Final RHF Energy: {SCF_E:.6f} [Eh]')"
   ]
  }
 ],
 "metadata": {
  "language_info": {
   "name": "python"
  },
  "orig_nbformat": 4
 },
 "nbformat": 4,
 "nbformat_minor": 2
}
